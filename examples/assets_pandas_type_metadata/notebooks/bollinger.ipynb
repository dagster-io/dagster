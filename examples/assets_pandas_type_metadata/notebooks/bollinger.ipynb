{
 "cells": [
  {
   "cell_type": "code",
   "execution_count": null,
   "metadata": {
    "is_executing": true
   },
   "outputs": [],
   "source": [
    "%load_ext autoreload\n",
    "%autoreload 1\n",
    "%config InteractiveShell.ast_node_interactivity='last_expr_or_assign'\n",
    "\n",
    "import sys\n",
    "import warnings\n",
    "\n",
    "sys.path.append(\"..\")\n",
    "\n",
    "import dagster\n",
    "\n",
    "warnings.filterwarnings(\"ignore\", category=dagster._utils.warnings.BetaWarning)\n",
    "import matplotlib.pyplot as plt\n",
    "import seaborn as sns\n",
    "import pandas as pd\n",
    "import pandera as pa\n",
    "\n",
    "import bollinger.lib as bol\n",
    "\n",
    "%aimport bollinger.lib"
   ]
  },
  {
   "cell_type": "code",
   "execution_count": null,
   "metadata": {},
   "outputs": [],
   "source": [
    "PRICES = bol.load_sp500_prices()"
   ]
  },
  {
   "cell_type": "code",
   "execution_count": null,
   "metadata": {
    "is_executing": true
   },
   "outputs": [],
   "source": [
    "BOLL = bol.compute_bollinger_bands_multi(PRICES)"
   ]
  },
  {
   "cell_type": "code",
   "execution_count": null,
   "metadata": {},
   "outputs": [],
   "source": [
    "ANOMALIES = bol.compute_anomalous_events(PRICES, BOLL)"
   ]
  },
  {
   "cell_type": "code",
   "execution_count": null,
   "metadata": {},
   "outputs": [],
   "source": [
    "bol.plot_sample_bollinger_bands(PRICES, BOLL)"
   ]
  },
  {
   "cell_type": "code",
   "execution_count": null,
   "metadata": {},
   "outputs": [],
   "source": [
    "bol.plot_sample_anonymous_events(ANOMALIES)"
   ]
  }
 ],
 "metadata": {
  "interpreter": {
   "hash": "af87f7a4a49b7d78afa3ad6021606e7a9da34bc478d411f549c5e02e4e8591c6"
  },
  "kernelspec": {
   "display_name": "Python 3.9.8 64-bit ('.venv': venv)",
   "language": "python",
   "name": "python3"
  },
  "language_info": {
   "codemirror_mode": {
    "name": "ipython",
    "version": 3
   },
   "file_extension": ".py",
   "mimetype": "text/x-python",
   "name": "python",
   "nbconvert_exporter": "python",
   "pygments_lexer": "ipython3",
   "version": "3.9.8"
  },
  "orig_nbformat": 4
 },
 "nbformat": 4,
 "nbformat_minor": 2
}
